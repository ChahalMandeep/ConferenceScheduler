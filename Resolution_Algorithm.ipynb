{
  "nbformat": 4,
  "nbformat_minor": 0,
  "metadata": {
    "colab": {
      "name": "Resolution Algorithm.ipynb",
      "provenance": [],
      "collapsed_sections": [],
      "authorship_tag": "ABX9TyN+mGp3jN2xCtvybk8EMryn",
      "include_colab_link": true
    },
    "kernelspec": {
      "name": "python3",
      "display_name": "Python 3"
    },
    "language_info": {
      "name": "python"
    }
  },
  "cells": [
    {
      "cell_type": "markdown",
      "metadata": {
        "id": "view-in-github",
        "colab_type": "text"
      },
      "source": [
        "<a href=\"https://colab.research.google.com/github/ChahalMandeep/ConferenceScheduler/blob/master/Resolution_Algorithm.ipynb\" target=\"_parent\"><img src=\"https://colab.research.google.com/assets/colab-badge.svg\" alt=\"Open In Colab\"/></a>"
      ]
    },
    {
      "cell_type": "markdown",
      "metadata": {
        "id": "6o4ReYsQ2c0G"
      },
      "source": [
        "# **Resolution Algorithm**"
      ]
    },
    {
      "cell_type": "code",
      "metadata": {
        "id": "Eoue73FkKneW"
      },
      "source": [
        "\"\"\"\n",
        "function PL-RESOLUTION (KB, alpha) returns True or False\n",
        "    clauses <-- the set of clauses in the CNF representation of KB^ -| alpha\n",
        "    new <-- {} \n",
        "    loop do\n",
        "    new <-- {} \n",
        "    loop do\n",
        "        for each Ci, Cj in clauses do\n",
        "            resolvents <-- PL-RESOLVE(Ci, Cj)\n",
        "            if resolvents contains the empty clause then return true\n",
        "            new <-- new U resolvents\n",
        "        if new C clauses the return false\n",
        "        clauses <-- clauses U new      <---- New resolvents added at the end\n",
        "\"\"\""
      ],
      "execution_count": null,
      "outputs": []
    },
    {
      "cell_type": "markdown",
      "metadata": {
        "id": "iQi8R0wDyqCY"
      },
      "source": [
        "# **[a]- Adding the dataset (M20AIE248_KB.txt)**"
      ]
    },
    {
      "cell_type": "code",
      "metadata": {
        "colab": {
          "resources": {
            "http://localhost:8080/nbextensions/google.colab/files.js": {
              "data": "Ly8gQ29weXJpZ2h0IDIwMTcgR29vZ2xlIExMQwovLwovLyBMaWNlbnNlZCB1bmRlciB0aGUgQXBhY2hlIExpY2Vuc2UsIFZlcnNpb24gMi4wICh0aGUgIkxpY2Vuc2UiKTsKLy8geW91IG1heSBub3QgdXNlIHRoaXMgZmlsZSBleGNlcHQgaW4gY29tcGxpYW5jZSB3aXRoIHRoZSBMaWNlbnNlLgovLyBZb3UgbWF5IG9idGFpbiBhIGNvcHkgb2YgdGhlIExpY2Vuc2UgYXQKLy8KLy8gICAgICBodHRwOi8vd3d3LmFwYWNoZS5vcmcvbGljZW5zZXMvTElDRU5TRS0yLjAKLy8KLy8gVW5sZXNzIHJlcXVpcmVkIGJ5IGFwcGxpY2FibGUgbGF3IG9yIGFncmVlZCB0byBpbiB3cml0aW5nLCBzb2Z0d2FyZQovLyBkaXN0cmlidXRlZCB1bmRlciB0aGUgTGljZW5zZSBpcyBkaXN0cmlidXRlZCBvbiBhbiAiQVMgSVMiIEJBU0lTLAovLyBXSVRIT1VUIFdBUlJBTlRJRVMgT1IgQ09ORElUSU9OUyBPRiBBTlkgS0lORCwgZWl0aGVyIGV4cHJlc3Mgb3IgaW1wbGllZC4KLy8gU2VlIHRoZSBMaWNlbnNlIGZvciB0aGUgc3BlY2lmaWMgbGFuZ3VhZ2UgZ292ZXJuaW5nIHBlcm1pc3Npb25zIGFuZAovLyBsaW1pdGF0aW9ucyB1bmRlciB0aGUgTGljZW5zZS4KCi8qKgogKiBAZmlsZW92ZXJ2aWV3IEhlbHBlcnMgZm9yIGdvb2dsZS5jb2xhYiBQeXRob24gbW9kdWxlLgogKi8KKGZ1bmN0aW9uKHNjb3BlKSB7CmZ1bmN0aW9uIHNwYW4odGV4dCwgc3R5bGVBdHRyaWJ1dGVzID0ge30pIHsKICBjb25zdCBlbGVtZW50ID0gZG9jdW1lbnQuY3JlYXRlRWxlbWVudCgnc3BhbicpOwogIGVsZW1lbnQudGV4dENvbnRlbnQgPSB0ZXh0OwogIGZvciAoY29uc3Qga2V5IG9mIE9iamVjdC5rZXlzKHN0eWxlQXR0cmlidXRlcykpIHsKICAgIGVsZW1lbnQuc3R5bGVba2V5XSA9IHN0eWxlQXR0cmlidXRlc1trZXldOwogIH0KICByZXR1cm4gZWxlbWVudDsKfQoKLy8gTWF4IG51bWJlciBvZiBieXRlcyB3aGljaCB3aWxsIGJlIHVwbG9hZGVkIGF0IGEgdGltZS4KY29uc3QgTUFYX1BBWUxPQURfU0laRSA9IDEwMCAqIDEwMjQ7CgpmdW5jdGlvbiBfdXBsb2FkRmlsZXMoaW5wdXRJZCwgb3V0cHV0SWQpIHsKICBjb25zdCBzdGVwcyA9IHVwbG9hZEZpbGVzU3RlcChpbnB1dElkLCBvdXRwdXRJZCk7CiAgY29uc3Qgb3V0cHV0RWxlbWVudCA9IGRvY3VtZW50LmdldEVsZW1lbnRCeUlkKG91dHB1dElkKTsKICAvLyBDYWNoZSBzdGVwcyBvbiB0aGUgb3V0cHV0RWxlbWVudCB0byBtYWtlIGl0IGF2YWlsYWJsZSBmb3IgdGhlIG5leHQgY2FsbAogIC8vIHRvIHVwbG9hZEZpbGVzQ29udGludWUgZnJvbSBQeXRob24uCiAgb3V0cHV0RWxlbWVudC5zdGVwcyA9IHN0ZXBzOwoKICByZXR1cm4gX3VwbG9hZEZpbGVzQ29udGludWUob3V0cHV0SWQpOwp9CgovLyBUaGlzIGlzIHJvdWdobHkgYW4gYXN5bmMgZ2VuZXJhdG9yIChub3Qgc3VwcG9ydGVkIGluIHRoZSBicm93c2VyIHlldCksCi8vIHdoZXJlIHRoZXJlIGFyZSBtdWx0aXBsZSBhc3luY2hyb25vdXMgc3RlcHMgYW5kIHRoZSBQeXRob24gc2lkZSBpcyBnb2luZwovLyB0byBwb2xsIGZvciBjb21wbGV0aW9uIG9mIGVhY2ggc3RlcC4KLy8gVGhpcyB1c2VzIGEgUHJvbWlzZSB0byBibG9jayB0aGUgcHl0aG9uIHNpZGUgb24gY29tcGxldGlvbiBvZiBlYWNoIHN0ZXAsCi8vIHRoZW4gcGFzc2VzIHRoZSByZXN1bHQgb2YgdGhlIHByZXZpb3VzIHN0ZXAgYXMgdGhlIGlucHV0IHRvIHRoZSBuZXh0IHN0ZXAuCmZ1bmN0aW9uIF91cGxvYWRGaWxlc0NvbnRpbnVlKG91dHB1dElkKSB7CiAgY29uc3Qgb3V0cHV0RWxlbWVudCA9IGRvY3VtZW50LmdldEVsZW1lbnRCeUlkKG91dHB1dElkKTsKICBjb25zdCBzdGVwcyA9IG91dHB1dEVsZW1lbnQuc3RlcHM7CgogIGNvbnN0IG5leHQgPSBzdGVwcy5uZXh0KG91dHB1dEVsZW1lbnQubGFzdFByb21pc2VWYWx1ZSk7CiAgcmV0dXJuIFByb21pc2UucmVzb2x2ZShuZXh0LnZhbHVlLnByb21pc2UpLnRoZW4oKHZhbHVlKSA9PiB7CiAgICAvLyBDYWNoZSB0aGUgbGFzdCBwcm9taXNlIHZhbHVlIHRvIG1ha2UgaXQgYXZhaWxhYmxlIHRvIHRoZSBuZXh0CiAgICAvLyBzdGVwIG9mIHRoZSBnZW5lcmF0b3IuCiAgICBvdXRwdXRFbGVtZW50Lmxhc3RQcm9taXNlVmFsdWUgPSB2YWx1ZTsKICAgIHJldHVybiBuZXh0LnZhbHVlLnJlc3BvbnNlOwogIH0pOwp9CgovKioKICogR2VuZXJhdG9yIGZ1bmN0aW9uIHdoaWNoIGlzIGNhbGxlZCBiZXR3ZWVuIGVhY2ggYXN5bmMgc3RlcCBvZiB0aGUgdXBsb2FkCiAqIHByb2Nlc3MuCiAqIEBwYXJhbSB7c3RyaW5nfSBpbnB1dElkIEVsZW1lbnQgSUQgb2YgdGhlIGlucHV0IGZpbGUgcGlja2VyIGVsZW1lbnQuCiAqIEBwYXJhbSB7c3RyaW5nfSBvdXRwdXRJZCBFbGVtZW50IElEIG9mIHRoZSBvdXRwdXQgZGlzcGxheS4KICogQHJldHVybiB7IUl0ZXJhYmxlPCFPYmplY3Q+fSBJdGVyYWJsZSBvZiBuZXh0IHN0ZXBzLgogKi8KZnVuY3Rpb24qIHVwbG9hZEZpbGVzU3RlcChpbnB1dElkLCBvdXRwdXRJZCkgewogIGNvbnN0IGlucHV0RWxlbWVudCA9IGRvY3VtZW50LmdldEVsZW1lbnRCeUlkKGlucHV0SWQpOwogIGlucHV0RWxlbWVudC5kaXNhYmxlZCA9IGZhbHNlOwoKICBjb25zdCBvdXRwdXRFbGVtZW50ID0gZG9jdW1lbnQuZ2V0RWxlbWVudEJ5SWQob3V0cHV0SWQpOwogIG91dHB1dEVsZW1lbnQuaW5uZXJIVE1MID0gJyc7CgogIGNvbnN0IHBpY2tlZFByb21pc2UgPSBuZXcgUHJvbWlzZSgocmVzb2x2ZSkgPT4gewogICAgaW5wdXRFbGVtZW50LmFkZEV2ZW50TGlzdGVuZXIoJ2NoYW5nZScsIChlKSA9PiB7CiAgICAgIHJlc29sdmUoZS50YXJnZXQuZmlsZXMpOwogICAgfSk7CiAgfSk7CgogIGNvbnN0IGNhbmNlbCA9IGRvY3VtZW50LmNyZWF0ZUVsZW1lbnQoJ2J1dHRvbicpOwogIGlucHV0RWxlbWVudC5wYXJlbnRFbGVtZW50LmFwcGVuZENoaWxkKGNhbmNlbCk7CiAgY2FuY2VsLnRleHRDb250ZW50ID0gJ0NhbmNlbCB1cGxvYWQnOwogIGNvbnN0IGNhbmNlbFByb21pc2UgPSBuZXcgUHJvbWlzZSgocmVzb2x2ZSkgPT4gewogICAgY2FuY2VsLm9uY2xpY2sgPSAoKSA9PiB7CiAgICAgIHJlc29sdmUobnVsbCk7CiAgICB9OwogIH0pOwoKICAvLyBXYWl0IGZvciB0aGUgdXNlciB0byBwaWNrIHRoZSBmaWxlcy4KICBjb25zdCBmaWxlcyA9IHlpZWxkIHsKICAgIHByb21pc2U6IFByb21pc2UucmFjZShbcGlja2VkUHJvbWlzZSwgY2FuY2VsUHJvbWlzZV0pLAogICAgcmVzcG9uc2U6IHsKICAgICAgYWN0aW9uOiAnc3RhcnRpbmcnLAogICAgfQogIH07CgogIGNhbmNlbC5yZW1vdmUoKTsKCiAgLy8gRGlzYWJsZSB0aGUgaW5wdXQgZWxlbWVudCBzaW5jZSBmdXJ0aGVyIHBpY2tzIGFyZSBub3QgYWxsb3dlZC4KICBpbnB1dEVsZW1lbnQuZGlzYWJsZWQgPSB0cnVlOwoKICBpZiAoIWZpbGVzKSB7CiAgICByZXR1cm4gewogICAgICByZXNwb25zZTogewogICAgICAgIGFjdGlvbjogJ2NvbXBsZXRlJywKICAgICAgfQogICAgfTsKICB9CgogIGZvciAoY29uc3QgZmlsZSBvZiBmaWxlcykgewogICAgY29uc3QgbGkgPSBkb2N1bWVudC5jcmVhdGVFbGVtZW50KCdsaScpOwogICAgbGkuYXBwZW5kKHNwYW4oZmlsZS5uYW1lLCB7Zm9udFdlaWdodDogJ2JvbGQnfSkpOwogICAgbGkuYXBwZW5kKHNwYW4oCiAgICAgICAgYCgke2ZpbGUudHlwZSB8fCAnbi9hJ30pIC0gJHtmaWxlLnNpemV9IGJ5dGVzLCBgICsKICAgICAgICBgbGFzdCBtb2RpZmllZDogJHsKICAgICAgICAgICAgZmlsZS5sYXN0TW9kaWZpZWREYXRlID8gZmlsZS5sYXN0TW9kaWZpZWREYXRlLnRvTG9jYWxlRGF0ZVN0cmluZygpIDoKICAgICAgICAgICAgICAgICAgICAgICAgICAgICAgICAgICAgJ24vYSd9IC0gYCkpOwogICAgY29uc3QgcGVyY2VudCA9IHNwYW4oJzAlIGRvbmUnKTsKICAgIGxpLmFwcGVuZENoaWxkKHBlcmNlbnQpOwoKICAgIG91dHB1dEVsZW1lbnQuYXBwZW5kQ2hpbGQobGkpOwoKICAgIGNvbnN0IGZpbGVEYXRhUHJvbWlzZSA9IG5ldyBQcm9taXNlKChyZXNvbHZlKSA9PiB7CiAgICAgIGNvbnN0IHJlYWRlciA9IG5ldyBGaWxlUmVhZGVyKCk7CiAgICAgIHJlYWRlci5vbmxvYWQgPSAoZSkgPT4gewogICAgICAgIHJlc29sdmUoZS50YXJnZXQucmVzdWx0KTsKICAgICAgfTsKICAgICAgcmVhZGVyLnJlYWRBc0FycmF5QnVmZmVyKGZpbGUpOwogICAgfSk7CiAgICAvLyBXYWl0IGZvciB0aGUgZGF0YSB0byBiZSByZWFkeS4KICAgIGxldCBmaWxlRGF0YSA9IHlpZWxkIHsKICAgICAgcHJvbWlzZTogZmlsZURhdGFQcm9taXNlLAogICAgICByZXNwb25zZTogewogICAgICAgIGFjdGlvbjogJ2NvbnRpbnVlJywKICAgICAgfQogICAgfTsKCiAgICAvLyBVc2UgYSBjaHVua2VkIHNlbmRpbmcgdG8gYXZvaWQgbWVzc2FnZSBzaXplIGxpbWl0cy4gU2VlIGIvNjIxMTU2NjAuCiAgICBsZXQgcG9zaXRpb24gPSAwOwogICAgd2hpbGUgKHBvc2l0aW9uIDwgZmlsZURhdGEuYnl0ZUxlbmd0aCkgewogICAgICBjb25zdCBsZW5ndGggPSBNYXRoLm1pbihmaWxlRGF0YS5ieXRlTGVuZ3RoIC0gcG9zaXRpb24sIE1BWF9QQVlMT0FEX1NJWkUpOwogICAgICBjb25zdCBjaHVuayA9IG5ldyBVaW50OEFycmF5KGZpbGVEYXRhLCBwb3NpdGlvbiwgbGVuZ3RoKTsKICAgICAgcG9zaXRpb24gKz0gbGVuZ3RoOwoKICAgICAgY29uc3QgYmFzZTY0ID0gYnRvYShTdHJpbmcuZnJvbUNoYXJDb2RlLmFwcGx5KG51bGwsIGNodW5rKSk7CiAgICAgIHlpZWxkIHsKICAgICAgICByZXNwb25zZTogewogICAgICAgICAgYWN0aW9uOiAnYXBwZW5kJywKICAgICAgICAgIGZpbGU6IGZpbGUubmFtZSwKICAgICAgICAgIGRhdGE6IGJhc2U2NCwKICAgICAgICB9LAogICAgICB9OwogICAgICBwZXJjZW50LnRleHRDb250ZW50ID0KICAgICAgICAgIGAke01hdGgucm91bmQoKHBvc2l0aW9uIC8gZmlsZURhdGEuYnl0ZUxlbmd0aCkgKiAxMDApfSUgZG9uZWA7CiAgICB9CiAgfQoKICAvLyBBbGwgZG9uZS4KICB5aWVsZCB7CiAgICByZXNwb25zZTogewogICAgICBhY3Rpb246ICdjb21wbGV0ZScsCiAgICB9CiAgfTsKfQoKc2NvcGUuZ29vZ2xlID0gc2NvcGUuZ29vZ2xlIHx8IHt9OwpzY29wZS5nb29nbGUuY29sYWIgPSBzY29wZS5nb29nbGUuY29sYWIgfHwge307CnNjb3BlLmdvb2dsZS5jb2xhYi5fZmlsZXMgPSB7CiAgX3VwbG9hZEZpbGVzLAogIF91cGxvYWRGaWxlc0NvbnRpbnVlLAp9Owp9KShzZWxmKTsK",
              "ok": true,
              "headers": [
                [
                  "content-type",
                  "application/javascript"
                ]
              ],
              "status": 200,
              "status_text": ""
            }
          },
          "base_uri": "https://localhost:8080/",
          "height": 73
        },
        "id": "qFAXdMb9y2hp",
        "outputId": "a5c0683b-609c-4d13-ba4e-be8a40586af0"
      },
      "source": [
        "from google.colab import files\n",
        "uploaded = files.upload()"
      ],
      "execution_count": 6,
      "outputs": [
        {
          "output_type": "display_data",
          "data": {
            "text/html": [
              "\n",
              "     <input type=\"file\" id=\"files-94c38cb1-3487-46e0-a6d2-64f1ac075a31\" name=\"files[]\" multiple disabled\n",
              "        style=\"border:none\" />\n",
              "     <output id=\"result-94c38cb1-3487-46e0-a6d2-64f1ac075a31\">\n",
              "      Upload widget is only available when the cell has been executed in the\n",
              "      current browser session. Please rerun this cell to enable.\n",
              "      </output>\n",
              "      <script src=\"/nbextensions/google.colab/files.js\"></script> "
            ],
            "text/plain": [
              "<IPython.core.display.HTML object>"
            ]
          },
          "metadata": {
            "tags": []
          }
        },
        {
          "output_type": "stream",
          "text": [
            "Saving M20AIE248_KB.txt to M20AIE248_KB.txt\n"
          ],
          "name": "stdout"
        }
      ]
    },
    {
      "cell_type": "code",
      "metadata": {
        "id": "stPrVABbC2ro"
      },
      "source": [
        "df = open('M20AIE248_KB.txt','r')\n",
        "contents = df.read()"
      ],
      "execution_count": 74,
      "outputs": []
    },
    {
      "cell_type": "markdown",
      "metadata": {
        "id": "1-hGZDos3Xum"
      },
      "source": [
        "# **[b]- Getting and Checking the Input**"
      ]
    },
    {
      "cell_type": "code",
      "metadata": {
        "id": "eHrjyd854Je3"
      },
      "source": [
        "def GetInput(InputKBFile):\n",
        "    \n",
        "    try:\n",
        "        file = open(InputKBFile, 'r')\n",
        "        KBC = int(file.readline())\n",
        "        KB = []\n",
        "        KBC = 0\n",
        "        while KBC < KBc:                         #--- KBC- KB Counter, KBc- KB Count\n",
        "            KB.append(file.readline().rstrip())\n",
        "            KBC = KBC + 1\n",
        "        query = file.readline()\n",
        "        return(KB,query)\n",
        "    except IOError:\n",
        "        print(\"File Not Found!\")"
      ],
      "execution_count": 36,
      "outputs": []
    },
    {
      "cell_type": "markdown",
      "metadata": {
        "id": "cEIduXrX4MVE"
      },
      "source": [
        "# **[c]- Input Processing**"
      ]
    },
    {
      "cell_type": "code",
      "metadata": {
        "id": "Yk-T7QiH4qyO"
      },
      "source": [
        "def PreProcess(KB):\n",
        "    TempKB=[]\n",
        "    for sentence in KB:\n",
        "        Temps = []\n",
        "        str =''\n",
        "        for c in sentence:\n",
        "            if c == '|':\n",
        "                if len(str) > 0:\n",
        "                    Temps.append(str)\n",
        "                    str=''\n",
        "            else:\n",
        "                str = str + c\n",
        "        if len(str) > 0:\n",
        "            Temps.append(str)\n",
        "        TempKB.append(Temps)\n",
        "    return TempKB"
      ],
      "execution_count": 37,
      "outputs": []
    },
    {
      "cell_type": "markdown",
      "metadata": {
        "id": "3RhY6mgO4t3B"
      },
      "source": [
        "# **[d]- Negate the sentence, which is in CNF(Conjunctive Normal Form)**"
      ]
    },
    {
      "cell_type": "code",
      "metadata": {
        "id": "prD4caK45Xyg"
      },
      "source": [
        "def NegateQ(Query):\n",
        "    Query = PreProcess(Query)\n",
        "    NegateQ=[]\n",
        "    for QSentence  in Query:\n",
        "        for atom in QSentence :\n",
        "            if atom.__contains__('!'):\n",
        "                NegateQ.append(atom.replace('!',''))\n",
        "            else:\n",
        "                NegateQ.append('!'+atom)\n",
        "    return NegateQ"
      ],
      "execution_count": 38,
      "outputs": []
    },
    {
      "cell_type": "markdown",
      "metadata": {
        "id": "nIeAWYkP5gYJ"
      },
      "source": [
        "# **[e]- To check if Proposition is resolvable & Return Resolvable List**"
      ]
    },
    {
      "cell_type": "code",
      "metadata": {
        "id": "lEmVWvh86bO9"
      },
      "source": [
        "def PreSolve(Clause1, Clause2):\n",
        "    CL_1 = Clause1.copy()\n",
        "    CL_2 = Clause2.copy()\n",
        "    Prop =''\n",
        "    for p in Clause1:\n",
        "        if p.__contains__('!'):\n",
        "            str = p[1:]\n",
        "            if Clause2.count(str) > 0:\n",
        "                CL_1.remove(p)\n",
        "                CL_2.remove(str)\n",
        "                prop = str\n",
        "                break\n",
        "        else:\n",
        "            str = '!'+p\n",
        "            if Clause2.count(str) > 0:\n",
        "                CL_1.remove(p)\n",
        "                CL_2.remove(str)\n",
        "                Prop = p\n",
        "                break\n",
        "    return(Prop,(CL_1+CL_2))\n",
        "\n",
        "def GetAllResolve(Clause,ResolvedClause,ResolvedClauseIndex):\n",
        "    ResolvedResult = []\n",
        "    for sentence in Clause:\n",
        "        CL_1 = Clause[sentence].copy()\n",
        "        CL_2 = ResolvedClause.copy()\n",
        "        Prop =''\n",
        "        for p in Clause[sentence]:\n",
        "            if p.__contains__('!'):\n",
        "                str = p[1:]\n",
        "                if ResolvedClause.count(str) > 0:\n",
        "                    CL_1.remove(p)\n",
        "                    CL_2.remove(str)\n",
        "                    Prop = str\n",
        "            else:\n",
        "                str = '!'+p\n",
        "                if ResolvedClause.count(str) > 0:\n",
        "                    CL_1.remove(p)\n",
        "                    CL_2.remove(str)\n",
        "                    Prop = p\n",
        "            \n",
        "            if len(Prop) > 0:\n",
        "                ResolvedResult.append((sentence,ResolvedClauseIndex,Prop))\n",
        "                Prop=''\n",
        "    return ResolvedResult"
      ],
      "execution_count": 41,
      "outputs": []
    },
    {
      "cell_type": "markdown",
      "metadata": {
        "id": "bS5pYWnw6mjB"
      },
      "source": [
        "# **[f]- Main Function and Print Statements**"
      ]
    },
    {
      "cell_type": "code",
      "metadata": {
        "colab": {
          "base_uri": "https://localhost:8080/"
        },
        "id": "8VG3zunyvPs4",
        "outputId": "c56c4b4e-bb53-442f-bacd-3148f7cbd7bf"
      },
      "source": [
        "def PlResolve(Clauses):\n",
        "    SentenceQ = []\n",
        "    global ClauseIndex\n",
        "    for i in Clauses.keys():\n",
        "        for j in Clauses.keys():\n",
        "            if i < j :\n",
        "                ResolvResult = IsPreSolve(Clauses[i],Clauses[j])\n",
        "                if len(ResolvResult[0]) > 0:\n",
        "                    SentenceQ.append((i,j,ResolvResult[0]))\n",
        "    \n",
        "    while len(SentenceQ) > 0:\n",
        "        elem = SentenceQ.pop()\n",
        "        ResolvResult = IsPreSolve(Clauses[elem[0]],Clauses[elem[1]])\n",
        "        if len(ResolvResult[0]) > 0:\n",
        "            print(\"{}:{} {}:{} resolving on {} => {}\".format(elem[0],Clauses[elem[0]],elem[1],Clauses[elem[1]],ResolvResult[0],ResolvResult[1]))\n",
        "        if len(ResolvResult[1]) == 0:\n",
        "            return 1\n",
        "        if ResolvResult[1] in Clauses.values():\n",
        "            continue\n",
        "        ClauseIndex = ClauseIndex + 1\n",
        "        ResolvePaired = GetAllResolve(Clauses,ResolvResult[1],ClauseIndex)\n",
        "        Clauses[ClauseIndex] = ResolvResult[1]                          \n",
        "        SentenceQ.extend(ResolvePaired)\n",
        "    return 0\n",
        "\n",
        "if __name__ == \"__main__\":\n",
        "    inputfile =\"M20AIE248_KB.txt\"\n",
        "    input = getinput(inputfile)\n",
        "    KB = input[0]\n",
        "    Query = input[1]\n",
        "    \n",
        "    print('--------------------')\n",
        "    print('Input Dataset:')\n",
        "    print('--------------------')\n",
        "    print(contents)\n",
        "    print('--------------------')\n",
        "    #print('--------------------')\n",
        "    \n",
        "    PreProcessedKB = PreProcess(KB)\n",
        "    print(\"Pre-Processed KB:\")\n",
        "    #print('--------------------')\n",
        "    print(PreProcessedKB)\n",
        "    print('--------------------')\n",
        "    print(\"Negated Query:\")\n",
        "    Query = NegateQ([Query])\n",
        "    #print('--------------------')\n",
        "    print(Query)\n",
        "    print('--------------------')\n",
        "    PQueue = []\n",
        "    \n",
        "    PreProcessedKB.append(Query)\n",
        "    \n",
        "    Clauses = {}\n",
        "    ClauseIndex = 0\n",
        "    for index,val in enumerate(PreProcessedKB):\n",
        "        Clauses[index] = val\n",
        "        ClauseIndex = index\n",
        "    print('---------------------------------------------')\n",
        "    print(\"Processed KB:\")\n",
        "    print('---------------------------------------------')\n",
        "    for SentenceKey in Clauses:\n",
        "        print(SentenceKey,Clauses[SentenceKey])\n",
        "        \n",
        "    \n",
        "    result = PlResolve(Clauses)\n",
        "    print(result)\n",
        "    print('---------------------------------------------')"
      ],
      "execution_count": 70,
      "outputs": [
        {
          "output_type": "stream",
          "text": [
            "--------------------\n",
            "Input Dataset:\n",
            "--------------------\n",
            "2\n",
            "A|B            \n",
            "!B\n",
            "B\n",
            "--------------------\n",
            "Pre-Processed KB:\n",
            "[['A', 'B'], ['!B']]\n",
            "--------------------\n",
            "Negated Query:\n",
            "['!B']\n",
            "--------------------\n",
            "---------------------------------------------\n",
            "Processed KB:\n",
            "---------------------------------------------\n",
            "0 ['A', 'B']\n",
            "1 ['!B']\n",
            "2 ['!B']\n",
            "0:['A', 'B'] 2:['!B'] resolving on B => ['A']\n",
            "0:['A', 'B'] 1:['!B'] resolving on B => ['A']\n",
            "0\n",
            "---------------------------------------------\n"
          ],
          "name": "stdout"
        }
      ]
    }
  ]
}